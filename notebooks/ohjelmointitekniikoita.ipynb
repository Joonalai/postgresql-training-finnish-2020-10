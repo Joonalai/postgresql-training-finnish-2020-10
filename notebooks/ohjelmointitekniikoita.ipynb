{
 "cells": [
  {
   "cell_type": "markdown",
   "metadata": {
    "editable": false
   },
   "source": [
    "# Ohjelmointitekniikoita\n",
    "\n",
    "Näissä harjoituksissa treenataan sekä syntaktisia rakenteita että erilaisia lähestymistapoja.\n",
    "\n",
    "## Tehtävä 1\n",
    "\n",
    "Chinook-aineisto kuvaa kuvitteellisen levykaupan tietokantaa.\n",
    "Voit nyt asettaa sen sisältävän `chinook`-skeeman hakupolkuun:"
   ]
  },
  {
   "cell_type": "code",
   "execution_count": null,
   "metadata": {},
   "outputs": [],
   "source": [
    "SET search_path = chinook;"
   ]
  },
  {
   "cell_type": "markdown",
   "metadata": {
    "editable": false
   },
   "source": [
    "Vilkaise taulua `track`.\n",
    "\n",
    "Kirjoita sitten funktio `sum_composed_seconds`, joka listaa eniten äänitettyjä sekunteja säveltäneitä, nimettyjä säveltäjiä.\n",
    "Funktion tulee ottaa IN-argumenttina vastaan tuloksena annettavien rivien lukumäärä.\n",
    "Funktion tulee palauttaa taulu, jossa on sarakkeet `composer` ja `total_seconds`.\n",
    "\n",
    "Kutsu funktiota arvolla 10 niin, että tuloksen taulurakenne säilyy.\n",
    "\n",
    "Mikä on tälle funktiolle sopiva volatiliteetti?"
   ]
  },
  {
   "cell_type": "code",
   "execution_count": null,
   "metadata": {},
   "outputs": [],
   "source": [
    "DROP ROUTINE IF EXISTS sum_composed_seconds;\n",
    "\n",
    "-- CREATE ..."
   ]
  },
  {
   "cell_type": "markdown",
   "metadata": {
    "editable": false
   },
   "source": [
    "## Tehtävä 2\n",
    "\n",
    "Kirjoita PL/pgSQL-funktio `get_genre_playlist_names`, joka listaa nimeltä kerran kaikki playlistit, jotka sisältävät edes yhden kappaleen syötteenä annettua genreä (`genre_id`).\n",
    "Tuloksessa tulee olla vain sarake `playlist_name`, joka on järjestetty `playlist_id`:n mukaan nousevasti.\n",
    "Käytä kerran [`FOR target IN query LOOP`-rakennetta](https://www.postgresql.org/docs/12/plpgsql-control-structures.html#PLPGSQL-RECORDS-ITERATING).\n",
    "\n",
    "Kutsu funktiota argumentilla `(SELECT genre_id FROM genre WHERE name = 'Classical')`."
   ]
  },
  {
   "cell_type": "code",
   "execution_count": null,
   "metadata": {},
   "outputs": [],
   "source": [
    "DROP ROUTINE IF EXISTS genre_playlist_joined;\n",
    "\n",
    "-- CREATE ..."
   ]
  },
  {
   "cell_type": "markdown",
   "metadata": {
    "editable": false
   },
   "source": [
    "## Tehtävä 3\n",
    "\n",
    "Toteuta sama funktio kuin edellisessä tehtävässä käyttäen kielenä SQL:ää.\n",
    "Voit hyödyntää tarvittaessa common table expressionia (CTE).\n",
    "\n",
    "Kumpi toteutus vaikuttaa sinusta selvemmältä?"
   ]
  },
  {
   "cell_type": "code",
   "execution_count": null,
   "metadata": {},
   "outputs": [],
   "source": [
    "DROP ROUTINE IF EXISTS genre_playlist_joined;\n",
    "\n",
    "-- CREATE ..."
   ]
  },
  {
   "cell_type": "markdown",
   "metadata": {
    "editable": false
   },
   "source": [
    "## Tehtävä 4\n",
    "\n",
    "ITIS-aineisto kuvaa eliölajien taksonomiaa.\n",
    "Voit nyt asettaa sen sisältävän `itis`-skeeman hakupolkuun:"
   ]
  },
  {
   "cell_type": "code",
   "execution_count": null,
   "metadata": {},
   "outputs": [],
   "source": [
    "SET search_path = itis;"
   ]
  },
  {
   "cell_type": "markdown",
   "metadata": {
    "editable": false
   },
   "source": [
    "Silmäile erityisesti tauluja `hierarchy` ja `taxonomic_units`.\n",
    "\n",
    "Tee kysely, joka laskee, kuinka monta noodia kussakin eliökunnassa (\"kingdom\") on.\n",
    "Eliökuntia ovat esimerkiksi bakteerit, eläimet ja sienet.\n",
    "Myös lajipuun sisäiset luokittelunoodit tulee laskea mukaan.\n",
    "\n",
    "Tuloksessa tulee olla sarakkeet `kingdom_tsn` ja `count`.\n",
    "Järjestä tulos `count`-sarakkeen mukaan laskevasti.\n",
    "\n",
    "Käytä avuksi rekursiivista kyselyä, joka ei hyödynnä taulusta `hierarchy` muita sarakkeita kuin `tsn` ja `parent_tsn`.\n",
    "Aloita eliökunnista ja etene puussa kohti yksittäisiä lajeja.\n",
    "\n",
    "Eliökunnan `parent_tsn` on 0, ei `NULL`."
   ]
  },
  {
   "cell_type": "code",
   "execution_count": null,
   "metadata": {},
   "outputs": [],
   "source": []
  },
  {
   "cell_type": "markdown",
   "metadata": {
    "editable": false
   },
   "source": [
    "## Tehtävä 5\n",
    "\n",
    "Seuraavaksi listaa taksonomiapuun 100 ensimmäistä noodia hierarkiaketjun pituuden mukaan järjestettynä.\n",
    "\n",
    "Lopputuloksessa tulee olla sarakkeet `tsn`, `heritage` (array, joka sisältää hierarkiaketjun `tsn`-arvot alkaen eliökunnasta ja päättyen kunkin rivin `tsn`-arvoon), `heritage_depth` (arrayn pituus) sekä noodin koko latinankielinen nimi (`complete_name`).\n",
    "Järjestä tulos laskevasti sarakkeen `heritage_depth` ja nousevasti sarakkeen `heritage` mukaan.\n",
    "\n",
    "Käytä avuksi rekursiivista kyselyä, joka ei hyödynnä taulusta `hierarchy` muita sarakkeita kuin `tsn` ja `parent_tsn`.\n",
    "\n",
    "Yhden elementin arrayn voi luoda esimerkiksi näin: `array[123]`.\n",
    "PostgreSQL:n array-operaattorit ja -funktiot on dokumentoitu [täällä](https://www.postgresql.org/docs/12/functions-array.html)."
   ]
  },
  {
   "cell_type": "code",
   "execution_count": null,
   "metadata": {},
   "outputs": [],
   "source": []
  }
 ],
 "metadata": {
  "kernelspec": {
   "display_name": "PostgreSQL",
   "language": "sql",
   "name": "postgres"
  },
  "language_info": {
   "codemirror_mode": "sql",
   "file_extension": ".sql",
   "mimetype": "text/x-postgresql",
   "name": "PostgreSQL",
   "pygments_lexer": "postgresql"
  }
 },
 "nbformat": 4,
 "nbformat_minor": 4
}
