{
 "cells": [
  {
   "cell_type": "markdown",
   "metadata": {
    "editable": false
   },
   "source": [
    "# JSONB\n",
    "\n",
    "Tässä harjoituksessa opetellaan käsittelemään JSONB-tietotyyppiä.\n",
    "Harjoitusmateriaalina toimii skeema `hfp`.\n",
    "\n",
    "Skeeman ainoaan tauluun `vehicle_events` on tallennettu hetken ajan Helsingin Seudun Liikenteen (HSL) ajoneuvojen avointa statusviestivirtaa.\n",
    "Kukin ajoneuvo lähettää sijaintinsa kerran sekunnissa ja lisäksi muita viestejä erinäisten tapahtumien yhteydessä.\n",
    "Kyseisen MQTT-rajapinnan nimi on [High-frequency positioning (HFP)](https://digitransit.fi/en/developers/apis/4-realtime-api/vehicle-positions/), ja sen dokumentaatio löytyy [täältä](https://digitransit.fi/en/developers/apis/4-realtime-api/vehicle-positions/).\n",
    "\n",
    "## Valmistelu\n",
    "\n",
    "Avaa tämän notebookin rinnalle uusi terminaali Jupyterin aloitusnäkymän pudotusvalikosta \"New > Terminal\". Käynnistä `psql`. Aja:\n",
    "```sql\n",
    "SET search_path = hfp;\n",
    "\\d+ vehicle_events\n",
    "```\n",
    "\n",
    "Tutustu sarakkeiden tietoihin.\n",
    "Tarkastele lisäksi joitakin rivejä saadaksesi tuntumaa aineistoon.\n",
    "\n",
    "Aja lisäksi seuraava solu tehtävien avuksi."
   ]
  },
  {
   "cell_type": "code",
   "execution_count": null,
   "metadata": {},
   "outputs": [],
   "source": [
    "SET search_path = hfp;"
   ]
  },
  {
   "cell_type": "markdown",
   "metadata": {
    "editable": false
   },
   "source": [
    "## Tehtävä 1\n",
    "\n",
    "Selvitä `payload`-sarakkeen kautta, miten aineisto jakaantuu eri tapahtumatyyppeihin, kuten `VP`.\n",
    "Tee kysely, jonka tuloksena saat sarakkeet `event_type` ja `count`.\n",
    "Järjestä rivit laskevasti `count`-sarakkeen ja nousevasti `event_type`-sarakkeen mukaan.\n",
    "\n",
    "Sopiva funktio löytyy [täältä](https://www.postgresql.org/docs/12/functions-json.html#FUNCTIONS-JSON-PROCESSING-TABLE)."
   ]
  },
  {
   "cell_type": "code",
   "execution_count": null,
   "metadata": {},
   "outputs": [],
   "source": []
  },
  {
   "cell_type": "markdown",
   "metadata": {
    "editable": false
   },
   "source": [
    "## Tehtävä 2\n",
    "\n",
    "Etsi kronologisesti (`received_at`) kolme ensimmäistä `VP`-viestiä, joissa ajoneuvoa ajava operaattori (`oper`) on 36 ja ajoneuvon kylkinumero (`veh`) on 14.\n",
    "Voit palauttaa kaikki sarakkeet.\n",
    "\n",
    "Kokeile ensin mitä vain toimivaa tapaa.\n",
    "\n",
    "Etsi sitten ratkaisu, jossa käytetään vain yhtä JSONB-operaattoria vain kerran."
   ]
  },
  {
   "cell_type": "code",
   "execution_count": null,
   "metadata": {},
   "outputs": [],
   "source": []
  },
  {
   "cell_type": "markdown",
   "metadata": {
    "editable": false
   },
   "source": [
    "## Tehtävä 3\n",
    "\n",
    "Laske seuraavaksi vauhdin (`spd`) aritmeettinen keskiarvo (`avg()`) kaikista `ARR`-viesteistä.\n",
    "(Harmoninen keskiarvo antaisi sopivalla syötteellä keskinopeuden, mutta PostgreSQL ei tarjoa sitä valmiina funktiona.)\n",
    "Älä käytä `jsonpath`-funktioita.\n",
    "\n",
    "Jos käytät `psql`:ää, voit muuttaa SQL-`NULL`in ulkoasun esimerkiksi muotoon `(null)` helpottaaksesi debuggausta:\n",
    "```sql\n",
    "\\pset null (null)\n",
    "```"
   ]
  },
  {
   "cell_type": "code",
   "execution_count": null,
   "metadata": {},
   "outputs": [],
   "source": []
  },
  {
   "cell_type": "markdown",
   "metadata": {
    "editable": false
   },
   "source": [
    "## Tehtävä 4\n",
    "\n",
    "Laske vauhdin aritmeettinen keskiarvo kaikista viesteistä.\n",
    "Älä käytä `jsonpath`-funktioita."
   ]
  },
  {
   "cell_type": "code",
   "execution_count": null,
   "metadata": {},
   "outputs": [],
   "source": []
  },
  {
   "cell_type": "markdown",
   "metadata": {
    "editable": false
   },
   "source": [
    "## Tehtävä 5\n",
    "\n",
    "Laske vauhdin aritmeettinen keskiarvo kaikista viesteistä.\n",
    "Hyödynnä `jsonpath`-funktioita tällä kertaa."
   ]
  },
  {
   "cell_type": "code",
   "execution_count": null,
   "metadata": {},
   "outputs": [],
   "source": []
  },
  {
   "cell_type": "markdown",
   "metadata": {
    "editable": false
   },
   "source": [
    "## Tehtävä 6\n",
    "\n",
    "Kokeile erilaisia indeksejä nopeuttamaan tehtävän 2 yhden JSONB-operaattorin ratkaisukyselyä.\n",
    "Aja `EXPLAIN ANALYZE` ennen ja jälkeen.\n",
    "Saatat haluta `DROP`ata edellisen indeksin ennen uuden kokeilemista plannerin ohjaamiseksi.\n",
    "Mitä havaitset indeksien eroista?\n",
    "\n",
    "GIN-indeksien operator class on kuvattu [täällä](https://www.postgresql.org/docs/12/gin-builtin-opclasses.html#GIN-BUILTIN-OPCLASSES-TABLE).\n",
    "Voit halutessasi kokeilla muitakin indeksejä.\n",
    "\n",
    "`BEGIN` ja `ROLLBACK` mahdollistavat indeksien turvallisen kokeilun.\n",
    "Voit hyödyntää seuraavaa koodipohjaa tehtävään.\n",
    "Jotta näet tulokset, kopioi ja aja koodisi `psql`:llä.\n",
    "\n",
    "```sql\n",
    "BEGIN;\n",
    "\n",
    "-- Debuggauksen ajaksi voit pakottaa plannerin hyödyntämään indeksiä, jos\n",
    "-- indeksiä on mitenkään mahdollista hyödyntää.\n",
    "SET enable_seqscan = off;\n",
    "\n",
    "DROP INDEX IF EXISTS payload_index;\n",
    "\n",
    "-- Kirjoita kokeilusi tähän\n",
    "\n",
    "ROLLBACK;\n",
    "```"
   ]
  },
  {
   "cell_type": "code",
   "execution_count": null,
   "metadata": {},
   "outputs": [],
   "source": [
    "BEGIN;\n",
    "\n",
    "-- Debuggauksen ajaksi voit pakottaa plannerin hyödyntämään indeksiä, jos\n",
    "-- indeksiä on mitenkään mahdollista hyödyntää.\n",
    "SET enable_seqscan = off;\n",
    "\n",
    "DROP INDEX IF EXISTS payload_index;\n",
    "\n",
    "-- Kirjoita kokeilusi tähän\n",
    "\n",
    "ROLLBACK;"
   ]
  }
 ],
 "metadata": {
  "kernelspec": {
   "display_name": "PostgreSQL",
   "language": "sql",
   "name": "postgres"
  },
  "language_info": {
   "codemirror_mode": "sql",
   "file_extension": ".sql",
   "mimetype": "text/x-postgresql",
   "name": "PostgreSQL",
   "pygments_lexer": "postgresql"
  }
 },
 "nbformat": 4,
 "nbformat_minor": 4
}
