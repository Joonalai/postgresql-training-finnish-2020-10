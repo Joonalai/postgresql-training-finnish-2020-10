{
 "cells": [
  {
   "cell_type": "markdown",
   "metadata": { "editable": false },
   "source": [
    "# Suorituskyky\n",
    "\n",
    "Tässä harjoituksessa harjoitellaan `EXPLAIN`-käskyn käyttöä, sen tulosten tulkitsemista sekä vilkaistaan PoWA-monitorointityökalua.\n",
    "\n",
    "## Tehtävä 1\n",
    "\n",
    "Avaa tämän notebookin rinnalle uusi terminaali Jupyterin aloitusnäkymän pudotusvalikosta \"New > Terminal\".\n",
    "Käynnistä `psql`.\n",
    "\n",
    "Valitse haluamasi ratkaisusi `ohjelmointitekniikoita.ipynb`-notebookista.\n",
    "Älä kuitenkaan valitse funktioratkaisua, sillä funktio on `EXPLAIN`-käskyn näkökulmasta musta laatikko.\n",
    "Lisää kysely seuraavaan pohjaan ja aja kokonaisuus `psql`:llä:\n",
    "```sql\n",
    "BEGIN;\n",
    "-- Set the search path.\n",
    "SET search_path = ...;\n",
    "EXPLAIN (ANALYZE, VERBOSE, COSTS, SETTINGS, BUFFERS, TIMING, SUMMARY)\n",
    "-- Copy the query here.\n",
    "ROLLBACK;\n",
    "```\n",
    "\n",
    "Kopioi plan [Depeszin palveluun](https://explain.depesz.com/) visualisointia varten.\n",
    "\n",
    "Tutki plania, kunnes ymmärrät sen."
   ]
  },
  {
   "cell_type": "code",
   "execution_count": null,
   "metadata": {},
   "outputs": [],
   "source": [
    "BEGIN;\n",
    "-- Set the search path.\n",
    "SET search_path = ...;\n",
    "EXPLAIN (ANALYZE, VERBOSE, COSTS, SETTINGS, BUFFERS, TIMING, SUMMARY)\n",
    "-- Write the query here.\n",
    "ROLLBACK;"
   ]
  },
  {
   "cell_type": "markdown",
   "metadata": { "editable": false },
   "source": [
    "## Tehtävä 2\n",
    "\n",
    "Depeszin historiasta löytyy mielenkiintoinen plan: <https://explain.depesz.com/s/b7kd>.\n",
    "\n",
    "Mikäli linkki on rauennut, voit itse kopioida planin Depeszin palveluun. Alla plan raakamuodossa:\n",
    "```\n",
    "Limit  (cost=144168.71..144168.72 rows=5 width=147) (actual time=112.182..112.183 rows=5 loops=1)\n",
    "  ->  Sort  (cost=144168.71..144169.00 rows=119 width=147) (actual time=112.181..112.182 rows=5 loops=1)\n",
    "        Sort Key: activities.id DESC\n",
    "        Sort Method: top-N heapsort  Memory: 25kB\n",
    "        ->  Nested Loop  (cost=2.12..144166.73 rows=119 width=147) (actual time=0.921..105.792 rows=19769 loops=1)\n",
    "              ->  Nested Loop  (cost=1.42..142367.12 rows=227 width=4) (actual time=0.048..9.895 rows=8210 loops=1)\n",
    "                    ->  Nested Loop  (cost=0.86..36.57 rows=31 width=4) (actual time=0.030..0.068 rows=26 loops=1)\n",
    "                          ->  Index Scan using repos_pkey on repos  (cost=0.43..2.65 rows=1 width=4) (actual time=0.011..0.012 rows=1 loops=1)\n",
    "                                Index Cond: (id = 1096202)\n",
    "                                Filter: (deleted_at IS NULL)\n",
    "                          ->  Index Scan using index_phases_on_repo_id_and_index on phases  (cost=0.43..33.61 rows=31 width=8) (actual time=0.018..0.047 rows=26 loops=1)\n",
    "                                Index Cond: (repo_id = 1096202)\n",
    "                    ->  Index Scan using idx_c_on_current_phase_id_due_date_deleted_at on cards  (cost=0.56..4549.44 rows=4187 width=8) (actual time=0.013..0.326 rows=316 loops=26)\n",
    "                          Index Cond: (current_phase_id = phases.id)\n",
    "              ->  Index Scan using idx_activities_on_trackable_type_and_key_and_trackable_id_id on activities  (cost=0.70..5.81 rows=212 width=147) (actual time=0.009..0.010 rows=2 loops=8210)\n",
    "                    Index Cond: (((trackable_type)::text = 'Card'::text) AND ((key)::text = 'card.move'::text) AND (trackable_id = cards.id))\n",
    "Planning time: 0.735 ms\n",
    "Execution time: 112.242 ms\n",
    "```\n",
    "\n",
    "Käy läpi kyseinen plan, joko Depeszin palvelussa tai raakaa plania lukien:\n",
    "1. Kuinka moneen tauluun alkuperäinen kysely luultavasti kohdistuu?\n",
    "1. Kuinka monessa edellä mainituista tauluista on kyselyyn hyödynnettävissä oleva indeksi?\n",
    "1. Kuinka moni käytetyistä indekseistä on luultavasti luotu eksplisiittisesti eikä ole syntynyt `PRIMARY KEY`-määrittelyn yhteydessä?\n",
    "1. Palauta mieleesi, miten planin operaatiot toimivatkaan.\n",
    "\n",
    "Lopuksi hahmottele kysely, josta kyseinen plan on luultavasti muodostettu.\n",
    "Lopullisia sarakkeita ei kyseisestä planista voi päätellä, joten aloita kysely muodossa `SELECT *`.\n",
    "\n",
    "Mitä tästä voi päätellä liikesalaisuuksien kopioimisesta Depeszin palveluun?"
   ]
  },
  {
   "cell_type": "code",
   "execution_count": null,
   "metadata": {},
   "outputs": [],
   "source": [
    "-- Sketch the query here."
   ]
  },
  {
   "cell_type": "markdown",
   "metadata": { "editable": false },
   "source": [
    "## Tehtävä 3\n",
    "\n",
    "Tutustu [PoWA-monitorointityökalun demoon](https://demo-powa.anayrat.info/).\n",
    "\n",
    "Selvitä instanssin `primary` tietokannan `bench` aktiivisin kysely sekunneissa mitattuna.\n",
    "\n",
    "Selvitä kyseisen kyselyn aktiivisin wait event.\n",
    "\n",
    "Etsi [PostgreSQL:n manuaalista](https://www.postgresql.org/docs/12/monitoring-stats.html#WAIT-EVENT-TABLE), mitä kyseinen wait event tarkoittaa.\n",
    "\n",
    "\n",
    "\n",
    "## Lisätehtävä 4\n",
    "\n",
    "Etsi [Depeszin palvelun historiasta](https://explain.depesz.com/history) muita mielenkiintoisia kyselyjä ja tutki niitä, kunnes ymmärrät, mitä niissä tapahtuu."
   ]
  }
 ],
 "metadata": {
  "kernelspec": {
   "display_name": "PostgreSQL",
   "language": "sql",
   "name": "postgres"
  },
  "language_info": {
   "codemirror_mode": "sql",
   "file_extension": ".sql",
   "mimetype": "text/x-postgresql",
   "name": "PostgreSQL",
   "pygments_lexer": "postgresql"
  }
 },
 "nbformat": 4,
 "nbformat_minor": 4
}
